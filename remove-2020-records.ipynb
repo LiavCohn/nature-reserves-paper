{
 "cells": [
  {
   "cell_type": "code",
   "execution_count": 13,
   "metadata": {},
   "outputs": [],
   "source": [
    "import pandas as pd\n",
    "df = pd.read_excel('VisitorEntrancesV3.xlsx')"
   ]
  },
  {
   "cell_type": "code",
   "execution_count": 14,
   "metadata": {},
   "outputs": [
    {
     "name": "stdout",
     "output_type": "stream",
     "text": [
      "shape before removal(85470, 42)\n",
      "(3123, 42)\n",
      "3123\n",
      "shape after removal(82347, 42)\n"
     ]
    }
   ],
   "source": [
    "print('shape before removal'+str(df.shape))\n",
    "indexes_to_remove = df.loc[df['year'] == 2020].index\n",
    "print(df.loc[df['year'] == 2020].shape)\n",
    "print(len(indexes_to_remove))\n",
    "df = df.drop(index=indexes_to_remove , axis= 0)\n",
    "print('shape after removal'+str(df.shape))"
   ]
  },
  {
   "cell_type": "code",
   "execution_count": 16,
   "metadata": {},
   "outputs": [],
   "source": [
    "df.to_excel('VisitorEntrancesV3.xlsx')"
   ]
  }
 ],
 "metadata": {
  "kernelspec": {
   "display_name": "Python 3.9.6 64-bit",
   "language": "python",
   "name": "python3"
  },
  "language_info": {
   "codemirror_mode": {
    "name": "ipython",
    "version": 3
   },
   "file_extension": ".py",
   "mimetype": "text/x-python",
   "name": "python",
   "nbconvert_exporter": "python",
   "pygments_lexer": "ipython3",
   "version": "3.9.6"
  },
  "orig_nbformat": 4,
  "vscode": {
   "interpreter": {
    "hash": "a536b1f2f7857d287c4ae35a0ee1d07c1e7b757f226d2fe47d4a3023454888c8"
   }
  }
 },
 "nbformat": 4,
 "nbformat_minor": 2
}
