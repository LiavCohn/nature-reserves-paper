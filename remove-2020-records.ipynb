{
 "cells": [
  {
   "cell_type": "code",
   "execution_count": 13,
   "metadata": {},
   "outputs": [],
   "source": [
    "import pandas as pd\n",
    "df = pd.read_excel('VisitorEntrancesV3.xlsx')"
   ]
  },
  {
   "cell_type": "markdown",
   "metadata": {},
   "source": [
    "אנחנו מעט מוטרדים מהקורונה והשפעתה על הביקורים, לכן מבקשים מכם לצמצם את הדאטה לשנים 2016-2019 כולל (ללא שנת 2020)\n"
   ]
  },
  {
   "cell_type": "code",
   "execution_count": 14,
   "metadata": {},
   "outputs": [
    {
     "name": "stdout",
     "output_type": "stream",
     "text": [
      "shape before removal(85470, 42)\n",
      "(3123, 42)\n",
      "3123\n",
      "shape after removal(82347, 42)\n"
     ]
    }
   ],
   "source": [
    "print('shape before removal'+str(df.shape))\n",
    "indexes_to_remove = df.loc[df['year'] == 2020].index\n",
    "print(df.loc[df['year'] == 2020].shape)\n",
    "print(len(indexes_to_remove))\n",
    "df = df.drop(index=indexes_to_remove , axis= 0)\n",
    "print('shape after removal'+str(df.shape))"
   ]
  },
  {
   "cell_type": "code",
   "execution_count": 16,
   "metadata": {},
   "outputs": [],
   "source": [
    "df.to_excel('VisitorEntrancesV3.xlsx')"
   ]
  }
 ],
 "metadata": {
  "kernelspec": {
   "display_name": "Python 3.9.13 64-bit",
   "language": "python",
   "name": "python3"
  },
  "language_info": {
   "codemirror_mode": {
    "name": "ipython",
    "version": 3
   },
   "file_extension": ".py",
   "mimetype": "text/x-python",
   "name": "python",
   "nbconvert_exporter": "python",
   "pygments_lexer": "ipython3",
   "version": "3.9.13"
  },
  "orig_nbformat": 4,
  "vscode": {
   "interpreter": {
    "hash": "21399d2563c2f2b8a9c8e6b3ef80a12e728513ae0f52517e9a59773528b494c5"
   }
  }
 },
 "nbformat": 4,
 "nbformat_minor": 2
}
