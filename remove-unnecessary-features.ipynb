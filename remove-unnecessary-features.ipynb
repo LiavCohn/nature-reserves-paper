{
 "cells": [
  {
   "cell_type": "code",
   "execution_count": 1,
   "metadata": {},
   "outputs": [],
   "source": [
    "import pandas as pd\n",
    "df = pd.read_excel('VisitorEntrancesV3.xlsx')"
   ]
  },
  {
   "cell_type": "code",
   "execution_count": 2,
   "metadata": {},
   "outputs": [],
   "source": [
    "df['IsHoliday'] = (df.is_jewish_holiday==1) | (df.is_muslims_holiday == 1 )\n",
    "df['IsVacation'] = (df.is_jewish_vacation==1) | (df.is_muslims_vacation == 1 )\n",
    "df['IsHeritage'] = (df.is_jewishHeritage==1) | (df.is_muslimsHeritage == 1) | (df.is_christiansHeritage==1) | (df.is_heritage==1)\n",
    "df = df.drop(['is_jewish_holiday','is_muslims_holiday','is_jewish_vacation','is_muslims_vacation','is_jewishHeritage','is_muslimsHeritage',\n",
    "         'is_christiansHeritage','is_heritage'],axis=1)\n",
    "df = df.drop(['year','month','day'],axis=1)\n",
    "df = df.drop(['visitors_avg_date'],axis=1)"
   ]
  },
  {
   "cell_type": "code",
   "execution_count": 5,
   "metadata": {},
   "outputs": [],
   "source": [
    "df.drop('Unnamed: 0', axis = 1, inplace=True)"
   ]
  },
  {
   "cell_type": "code",
   "execution_count": 6,
   "metadata": {},
   "outputs": [
    {
     "data": {
      "text/plain": [
       "Index(['Date', 'Site_Name', 'Israelis_Count', 'region_Central',\n",
       "       'region_Judea_Samaria', 'region_North', 'region_South', 'is_weekend',\n",
       "       'operations', 'is_camping', 'special_activity', 'visit_duration',\n",
       "       'is_nationalPark', 'is_natureReserve', 'is_archaeology', 'is_religion',\n",
       "       'is_animals', 'is_water', 'is_cave', 'is_lookout', 'pm10',\n",
       "       'Temperature', 'is_HeatWave', 'Season_autumn', 'Season_spring',\n",
       "       'Season_summer', 'Season_winter', 'last_year_visitors',\n",
       "       'Exceeded_pm10_in_Israel', 'Site_Exceeded', 'IsHoliday', 'IsVacation',\n",
       "       'IsHeritage'],\n",
       "      dtype='object')"
      ]
     },
     "execution_count": 6,
     "metadata": {},
     "output_type": "execute_result"
    }
   ],
   "source": [
    "df.to_excel('VisitorEntrancesV3.xlsx')"
   ]
  }
 ],
 "metadata": {
  "kernelspec": {
   "display_name": "Python 3.9.6 64-bit",
   "language": "python",
   "name": "python3"
  },
  "language_info": {
   "codemirror_mode": {
    "name": "ipython",
    "version": 3
   },
   "file_extension": ".py",
   "mimetype": "text/x-python",
   "name": "python",
   "nbconvert_exporter": "python",
   "pygments_lexer": "ipython3",
   "version": "3.9.6"
  },
  "orig_nbformat": 4,
  "vscode": {
   "interpreter": {
    "hash": "a536b1f2f7857d287c4ae35a0ee1d07c1e7b757f226d2fe47d4a3023454888c8"
   }
  }
 },
 "nbformat": 4,
 "nbformat_minor": 2
}
