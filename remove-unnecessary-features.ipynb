{
 "cells": [
  {
   "cell_type": "code",
   "execution_count": 1,
   "metadata": {},
   "outputs": [],
   "source": [
    "import pandas as pd\n",
    "df = pd.read_excel('VisitorEntrancesV3.xlsx')"
   ]
  },
  {
   "cell_type": "code",
   "execution_count": null,
   "metadata": {},
   "outputs": [],
   "source": [
    "df['IsHoliday'] = (df.is_jewish_holiday==1) | (df.is_muslims_holiday == 1 )\n",
    "df['IsVacation'] = (df.is_jewish_vacation==1) | (df.is_muslims_vacation == 1 )\n",
    "df['IsHeritage'] = (df.is_jewishHeritage==1) | (df.is_muslimsHeritage == 1) | (df.is_christiansHeritage==1) | (df.is_heritage==1)\n",
    "df = df.drop(['is_jewish_holiday','is_muslims_holiday','is_jewish_vacation','is_muslims_vacation','is_jewishHeritage','is_muslimsHeritage',\n",
    "         'is_christiansHeritage','is_heritage'],axis=1)\n",
    "df = df.drop(['year','month','day'],axis=1)\n",
    "df = df.drop(['visitors_avg_date'],axis=1)"
   ]
  },
  {
   "cell_type": "code",
   "execution_count": 8,
   "metadata": {},
   "outputs": [],
   "source": [
    "df.to_excel('VisitorEntrancesV3.xlsx',index=False)"
   ]
  }
 ],
 "metadata": {
  "kernelspec": {
   "display_name": "Python 3.9.13 64-bit",
   "language": "python",
   "name": "python3"
  },
  "language_info": {
   "codemirror_mode": {
    "name": "ipython",
    "version": 3
   },
   "file_extension": ".py",
   "mimetype": "text/x-python",
   "name": "python",
   "nbconvert_exporter": "python",
   "pygments_lexer": "ipython3",
   "version": "3.9.13"
  },
  "orig_nbformat": 4,
  "vscode": {
   "interpreter": {
    "hash": "21399d2563c2f2b8a9c8e6b3ef80a12e728513ae0f52517e9a59773528b494c5"
   }
  }
 },
 "nbformat": 4,
 "nbformat_minor": 2
}
