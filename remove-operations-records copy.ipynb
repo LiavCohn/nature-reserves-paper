{
 "cells": [
  {
   "cell_type": "code",
   "execution_count": 1,
   "metadata": {},
   "outputs": [],
   "source": [
    "import pandas as pd\n",
    "df = pd.read_excel('VisitorEntrancesV3.xlsx')"
   ]
  },
  {
   "cell_type": "markdown",
   "metadata": {},
   "source": [
    "מכיוון שיש מעט ימים עם מלחמות / מבצעים וקשה יהיה להסביר את זה לקוראים הבינ\"ל – אנא מחקו את ימי המלחמות/מבצעים מהדאטה (ציינו זאת בשיטות)"
   ]
  },
  {
   "cell_type": "code",
   "execution_count": 25,
   "metadata": {},
   "outputs": [],
   "source": [
    "df = df[df['operations']==0]"
   ]
  },
  {
   "cell_type": "code",
   "execution_count": 26,
   "metadata": {},
   "outputs": [
    {
     "data": {
      "text/plain": [
       "Date                       1406\n",
       "Site_Name                    60\n",
       "Israelis_Count             2963\n",
       "region_Central                2\n",
       "region_Judea_Samaria          2\n",
       "region_North                  2\n",
       "region_South                  2\n",
       "is_weekend                    2\n",
       "operations                    1\n",
       "is_camping                    2\n",
       "special_activity              2\n",
       "visit_duration                5\n",
       "is_nationalPark               2\n",
       "is_natureReserve              2\n",
       "is_archaeology                2\n",
       "is_religion                   1\n",
       "is_animals                    2\n",
       "is_water                      2\n",
       "is_cave                       2\n",
       "is_lookout                    2\n",
       "pm10                       4431\n",
       "Temperature                2112\n",
       "is_HeatWave                   2\n",
       "Season_autumn                 2\n",
       "Season_spring                 2\n",
       "Season_summer                 2\n",
       "Season_winter                 2\n",
       "last_year_visitors         2647\n",
       "Exceeded_pm10_in_Israel       2\n",
       "Site_Exceeded                 2\n",
       "IsHoliday                     2\n",
       "IsVacation                    2\n",
       "IsHeritage                    2\n",
       "dtype: int64"
      ]
     },
     "execution_count": 26,
     "metadata": {},
     "output_type": "execute_result"
    }
   ],
   "source": [
    "df.nunique()\n",
    "#need to drop is_religion and operations."
   ]
  },
  {
   "cell_type": "code",
   "execution_count": 27,
   "metadata": {},
   "outputs": [],
   "source": [
    "df = df.drop(['operations'],axis=1)\n",
    "df = df.drop(['is_religion'],axis=1)"
   ]
  },
  {
   "cell_type": "code",
   "execution_count": 28,
   "metadata": {},
   "outputs": [],
   "source": [
    "df.to_excel('VisitorEntrancesV3.xlsx',index=False)"
   ]
  }
 ],
 "metadata": {
  "kernelspec": {
   "display_name": "Python 3.9.13 64-bit",
   "language": "python",
   "name": "python3"
  },
  "language_info": {
   "codemirror_mode": {
    "name": "ipython",
    "version": 3
   },
   "file_extension": ".py",
   "mimetype": "text/x-python",
   "name": "python",
   "nbconvert_exporter": "python",
   "pygments_lexer": "ipython3",
   "version": "3.9.13"
  },
  "orig_nbformat": 4,
  "vscode": {
   "interpreter": {
    "hash": "21399d2563c2f2b8a9c8e6b3ef80a12e728513ae0f52517e9a59773528b494c5"
   }
  }
 },
 "nbformat": 4,
 "nbformat_minor": 2
}
