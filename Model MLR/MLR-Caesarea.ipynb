{
 "cells": [
  {
   "cell_type": "code",
   "execution_count": null,
   "metadata": {},
   "outputs": [],
   "source": [
    "import pandas as pd\n",
    "import numpy as np\n",
    "from sklearn import linear_model\n",
    "from sklearn.model_selection import train_test_split\n",
    "import sys\n",
    "sys.path.append('../')\n",
    "import function\n",
    "from sklearn.preprocessing import MinMaxScaler"
   ]
  },
  {
   "cell_type": "code",
   "execution_count": null,
   "metadata": {},
   "outputs": [],
   "source": [
    "df = pd.read_excel('../VisitorEntrancesV3.xlsx')"
   ]
  },
  {
   "cell_type": "code",
   "execution_count": null,
   "metadata": {},
   "outputs": [],
   "source": [
    "df = df[df.Site_Name=='Caesarea']\n",
    "df = function.remove_unique_one(df)\n",
    "df = df.drop(df.filter(regex='Season').columns, axis=1)\n",
    "df = df.drop(df.filter(regex='Exceeded').columns, axis=1)\n",
    "df = df.drop(df.filter(regex='isHeatwave').columns, axis=1)\n",
    "df = df.replace({True:1,False:0})"
   ]
  },
  {
   "cell_type": "code",
   "execution_count": null,
   "metadata": {},
   "outputs": [],
   "source": [
    "# dfWithoutLastYearVisits = df.dropna().drop('last_year_visitors',axis=1)\n",
    "dfWithoutLastYearVisits = df.drop('last_year_visitors',axis=1).dropna()\n",
    "dfLastYearVisits = df.dropna()"
   ]
  },
  {
   "cell_type": "code",
   "execution_count": null,
   "metadata": {},
   "outputs": [],
   "source": [
    "print(df.shape)\n",
    "print(dfLastYearVisits.shape)\n",
    "print(dfWithoutLastYearVisits.shape)"
   ]
  },
  {
   "cell_type": "code",
   "execution_count": null,
   "metadata": {},
   "outputs": [],
   "source": [
    "resTrain,resTest,coeffDf = function.mlrModelResTrainTestCoeff(dfLastYearVisits)"
   ]
  },
  {
   "cell_type": "code",
   "execution_count": null,
   "metadata": {},
   "outputs": [],
   "source": [
    "print(coeffDf)\n",
    "print()\n",
    "\n",
    "function.printRes(resTrain)\n",
    "print()\n",
    "\n",
    "function.printRes(resTest)"
   ]
  },
  {
   "cell_type": "code",
   "execution_count": null,
   "metadata": {},
   "outputs": [],
   "source": [
    "resTrain,resTest,coeffDf = function.mlrModelResTrainTestCoeff(dfWithoutLastYearVisits)\n",
    "print(coeffDf)\n",
    "print()\n",
    "\n",
    "function.printRes(resTrain)\n",
    "print()\n",
    "\n",
    "function.printRes(resTest)"
   ]
  }
 ],
 "metadata": {
  "kernelspec": {
   "display_name": "Python 3.9.13 64-bit",
   "language": "python",
   "name": "python3"
  },
  "language_info": {
   "codemirror_mode": {
    "name": "ipython",
    "version": 3
   },
   "file_extension": ".py",
   "mimetype": "text/x-python",
   "name": "python",
   "nbconvert_exporter": "python",
   "pygments_lexer": "ipython3",
   "version": "3.9.13"
  },
  "orig_nbformat": 4,
  "vscode": {
   "interpreter": {
    "hash": "21399d2563c2f2b8a9c8e6b3ef80a12e728513ae0f52517e9a59773528b494c5"
   }
  }
 },
 "nbformat": 4,
 "nbformat_minor": 2
}
