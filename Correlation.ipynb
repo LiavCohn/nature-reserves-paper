{
 "cells": [
  {
   "cell_type": "code",
   "execution_count": 5,
   "metadata": {},
   "outputs": [],
   "source": [
    "import pandas as pd\n",
    "import numpy as np\n",
    "from scipy import stats\n",
    "import function\n",
    "import pandasql\n",
    "import sqlite3\n",
    "from IPython.display import clear_output\n",
    "import datetime\n"
   ]
  },
  {
   "cell_type": "code",
   "execution_count": 2,
   "metadata": {},
   "outputs": [],
   "source": [
    "df = pd.read_excel('VisitorEntrancesV3.xlsx')"
   ]
  },
  {
   "cell_type": "code",
   "execution_count": 4,
   "metadata": {},
   "outputs": [
    {
     "name": "stdout",
     "output_type": "stream",
     "text": [
      "<class 'pandas.core.frame.DataFrame'>\n",
      "RangeIndex: 75165 entries, 0 to 75164\n",
      "Data columns (total 30 columns):\n",
      " #   Column                   Non-Null Count  Dtype         \n",
      "---  ------                   --------------  -----         \n",
      " 0   Date                     75165 non-null  datetime64[ns]\n",
      " 1   Site_Name                75165 non-null  object        \n",
      " 2   Israelis_Count           75165 non-null  int64         \n",
      " 3   region_Central           75165 non-null  int64         \n",
      " 4   region_Judea_Samaria     75165 non-null  int64         \n",
      " 5   region_North             75165 non-null  int64         \n",
      " 6   region_South             75165 non-null  int64         \n",
      " 7   is_weekend               75165 non-null  int64         \n",
      " 8   is_camping               75165 non-null  int64         \n",
      " 9   special_activity         75165 non-null  int64         \n",
      " 10  visit_duration           75165 non-null  int64         \n",
      " 11  is_nationalPark          75165 non-null  int64         \n",
      " 12  is_natureReserve         75165 non-null  int64         \n",
      " 13  is_archaeology           75165 non-null  int64         \n",
      " 14  is_animals               75165 non-null  int64         \n",
      " 15  is_water                 75165 non-null  int64         \n",
      " 16  is_cave                  75165 non-null  int64         \n",
      " 17  is_lookout               75165 non-null  int64         \n",
      " 18  pm10                     52608 non-null  float64       \n",
      " 19  Season_autumn            75165 non-null  int64         \n",
      " 20  Season_spring            75165 non-null  int64         \n",
      " 21  Season_summer            75165 non-null  int64         \n",
      " 22  Season_winter            75165 non-null  int64         \n",
      " 23  last_year_visitors       53904 non-null  float64       \n",
      " 24  Exceeded_pm10_in_Israel  75165 non-null  int64         \n",
      " 25  Site_Exceeded            75165 non-null  int64         \n",
      " 26  IsVacation               75165 non-null  bool          \n",
      " 27  IsHeritage               75165 non-null  bool          \n",
      " 28  Temperature              75165 non-null  float64       \n",
      " 29  isHeatwave               75165 non-null  int64         \n",
      "dtypes: bool(2), datetime64[ns](1), float64(3), int64(23), object(1)\n",
      "memory usage: 16.2+ MB\n"
     ]
    }
   ],
   "source": [
    "df.info()"
   ]
  },
  {
   "cell_type": "code",
   "execution_count": 17,
   "metadata": {},
   "outputs": [
    {
     "data": {
      "text/plain": [
       "<AxesSubplot:>"
      ]
     },
     "execution_count": 17,
     "metadata": {},
     "output_type": "execute_result"
    },
    {
     "data": {
      "image/png": "[encoded data removed]",
      "text/plain": [
       "<Figure size 432x288 with 1 Axes>"
      ]
     },
     "metadata": {
      "needs_background": "light"
     },
     "output_type": "display_data"
    }
   ],
   "source": [
    "df['SEASON'].hist()"
   ]
  },
  {
   "cell_type": "code",
   "execution_count": 52,
   "metadata": {},
   "outputs": [],
   "source": [
    "season = {11:'Winter',12:'Winter',1:'Winter',2:'Winter',3:'Spring',4:'Spring',5:'Summer',6:'Summer',7:'Summer',8:'Summer',9:'Fall',10:'Fall'}\n",
    "df['SEASON'] = pd.DatetimeIndex(df['Date']).month.map(season)\n",
    "df['Year'] = pd.DatetimeIndex(df['Date']).year\n",
    "\n"
   ]
  },
  {
   "cell_type": "code",
   "execution_count": 58,
   "metadata": {},
   "outputs": [
    {
     "data": {
      "text/html": [
       "<div>\n",
       "<style scoped>\n",
       "    .dataframe tbody tr th:only-of-type {\n",
       "        vertical-align: middle;\n",
       "    }\n",
       "\n",
       "    .dataframe tbody tr th {\n",
       "        vertical-align: top;\n",
       "    }\n",
       "\n",
       "    .dataframe thead th {\n",
       "        text-align: right;\n",
       "    }\n",
       "</style>\n",
       "<table border=\"1\" class=\"dataframe\">\n",
       "  <thead>\n",
       "    <tr style=\"text-align: right;\">\n",
       "      <th></th>\n",
       "      <th>Fall</th>\n",
       "      <th>Winter</th>\n",
       "      <th>Spring</th>\n",
       "      <th>Summer</th>\n",
       "    </tr>\n",
       "    <tr>\n",
       "      <th>Year</th>\n",
       "      <th></th>\n",
       "      <th></th>\n",
       "      <th></th>\n",
       "      <th></th>\n",
       "    </tr>\n",
       "  </thead>\n",
       "  <tbody>\n",
       "    <tr>\n",
       "      <th>2016</th>\n",
       "      <td>315.056669</td>\n",
       "      <td>200.914281</td>\n",
       "      <td>397.688694</td>\n",
       "      <td>302.250642</td>\n",
       "    </tr>\n",
       "    <tr>\n",
       "      <th>2017</th>\n",
       "      <td>333.542988</td>\n",
       "      <td>229.487915</td>\n",
       "      <td>395.606903</td>\n",
       "      <td>326.107988</td>\n",
       "    </tr>\n",
       "    <tr>\n",
       "      <th>2018</th>\n",
       "      <td>319.115844</td>\n",
       "      <td>216.684540</td>\n",
       "      <td>439.910501</td>\n",
       "      <td>318.925870</td>\n",
       "    </tr>\n",
       "    <tr>\n",
       "      <th>2019</th>\n",
       "      <td>348.137534</td>\n",
       "      <td>240.564951</td>\n",
       "      <td>419.537105</td>\n",
       "      <td>380.020234</td>\n",
       "    </tr>\n",
       "  </tbody>\n",
       "</table>\n",
       "</div>"
      ],
      "text/plain": [
       "            Fall      Winter      Spring      Summer\n",
       "Year                                                \n",
       "2016  315.056669  200.914281  397.688694  302.250642\n",
       "2017  333.542988  229.487915  395.606903  326.107988\n",
       "2018  319.115844  216.684540  439.910501  318.925870\n",
       "2019  348.137534  240.564951  419.537105  380.020234"
      ]
     },
     "execution_count": 58,
     "metadata": {},
     "output_type": "execute_result"
    }
   ],
   "source": [
    "d = pd.get_dummies(df[['Israelis_Count','SEASON','Year']],prefix='').pivot_table(index=['Year'],columns=['_Winter','_Summer','_Fall','_Spring'],values='Israelis_Count',aggfunc=[np.mean])\n",
    "d.columns = ['Spring','Fall','Summer','Winter']\n",
    "d = d[['Fall','Winter','Spring','Summer']]\n",
    "d"
   ]
  },
  {
   "cell_type": "code",
   "execution_count": 57,
   "metadata": {},
   "outputs": [
    {
     "data": {
      "text/html": [
       "<div>\n",
       "<style scoped>\n",
       "    .dataframe tbody tr th:only-of-type {\n",
       "        vertical-align: middle;\n",
       "    }\n",
       "\n",
       "    .dataframe tbody tr th {\n",
       "        vertical-align: top;\n",
       "    }\n",
       "\n",
       "    .dataframe thead th {\n",
       "        text-align: right;\n",
       "    }\n",
       "</style>\n",
       "<table border=\"1\" class=\"dataframe\">\n",
       "  <thead>\n",
       "    <tr style=\"text-align: right;\">\n",
       "      <th></th>\n",
       "      <th>Israelis_Count</th>\n",
       "      <th>Year</th>\n",
       "      <th>_Fall</th>\n",
       "      <th>_Spring</th>\n",
       "      <th>_Summer</th>\n",
       "      <th>_Winter</th>\n",
       "    </tr>\n",
       "  </thead>\n",
       "  <tbody>\n",
       "    <tr>\n",
       "      <th>Israelis_Count</th>\n",
       "      <td>1.000000</td>\n",
       "      <td>0.035549</td>\n",
       "      <td>0.014971</td>\n",
       "      <td>0.092120</td>\n",
       "      <td>0.027990</td>\n",
       "      <td>-0.117914</td>\n",
       "    </tr>\n",
       "    <tr>\n",
       "      <th>Year</th>\n",
       "      <td>0.035549</td>\n",
       "      <td>1.000000</td>\n",
       "      <td>0.010593</td>\n",
       "      <td>0.011526</td>\n",
       "      <td>0.006259</td>\n",
       "      <td>-0.024841</td>\n",
       "    </tr>\n",
       "    <tr>\n",
       "      <th>_Fall</th>\n",
       "      <td>0.014971</td>\n",
       "      <td>0.010593</td>\n",
       "      <td>1.000000</td>\n",
       "      <td>-0.210532</td>\n",
       "      <td>-0.338295</td>\n",
       "      <td>-0.299383</td>\n",
       "    </tr>\n",
       "    <tr>\n",
       "      <th>_Spring</th>\n",
       "      <td>0.092120</td>\n",
       "      <td>0.011526</td>\n",
       "      <td>-0.210532</td>\n",
       "      <td>1.000000</td>\n",
       "      <td>-0.339378</td>\n",
       "      <td>-0.300341</td>\n",
       "    </tr>\n",
       "    <tr>\n",
       "      <th>_Summer</th>\n",
       "      <td>0.027990</td>\n",
       "      <td>0.006259</td>\n",
       "      <td>-0.338295</td>\n",
       "      <td>-0.339378</td>\n",
       "      <td>1.000000</td>\n",
       "      <td>-0.482605</td>\n",
       "    </tr>\n",
       "    <tr>\n",
       "      <th>_Winter</th>\n",
       "      <td>-0.117914</td>\n",
       "      <td>-0.024841</td>\n",
       "      <td>-0.299383</td>\n",
       "      <td>-0.300341</td>\n",
       "      <td>-0.482605</td>\n",
       "      <td>1.000000</td>\n",
       "    </tr>\n",
       "  </tbody>\n",
       "</table>\n",
       "</div>"
      ],
      "text/plain": [
       "                Israelis_Count      Year     _Fall   _Spring   _Summer  \\\n",
       "Israelis_Count        1.000000  0.035549  0.014971  0.092120  0.027990   \n",
       "Year                  0.035549  1.000000  0.010593  0.011526  0.006259   \n",
       "_Fall                 0.014971  0.010593  1.000000 -0.210532 -0.338295   \n",
       "_Spring               0.092120  0.011526 -0.210532  1.000000 -0.339378   \n",
       "_Summer               0.027990  0.006259 -0.338295 -0.339378  1.000000   \n",
       "_Winter              -0.117914 -0.024841 -0.299383 -0.300341 -0.482605   \n",
       "\n",
       "                 _Winter  \n",
       "Israelis_Count -0.117914  \n",
       "Year           -0.024841  \n",
       "_Fall          -0.299383  \n",
       "_Spring        -0.300341  \n",
       "_Summer        -0.482605  \n",
       "_Winter         1.000000  "
      ]
     },
     "execution_count": 57,
     "metadata": {},
     "output_type": "execute_result"
    }
   ],
   "source": [
    "pd.get_dummies(df[['Israelis_Count','SEASON','Year']],prefix='').corr()"
   ]
  }
 ],
 "metadata": {
  "kernelspec": {
   "display_name": "Python 3.9.13 64-bit",
   "language": "python",
   "name": "python3"
  },
  "language_info": {
   "codemirror_mode": {
    "name": "ipython",
    "version": 3
   },
   "file_extension": ".py",
   "mimetype": "text/x-python",
   "name": "python",
   "nbconvert_exporter": "python",
   "pygments_lexer": "ipython3",
   "version": "3.9.13 (tags/v3.9.13:6de2ca5, May 17 2022, 16:36:42) [MSC v.1929 64 bit (AMD64)]"
  },
  "orig_nbformat": 4,
  "vscode": {
   "interpreter": {
    "hash": "21399d2563c2f2b8a9c8e6b3ef80a12e728513ae0f52517e9a59773528b494c5"
   }
  }
 },
 "nbformat": 4,
 "nbformat_minor": 2
}
