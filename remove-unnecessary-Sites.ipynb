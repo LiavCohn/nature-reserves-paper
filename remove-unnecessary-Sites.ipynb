{
 "cells": [
  {
   "cell_type": "code",
   "execution_count": 1,
   "metadata": {},
   "outputs": [],
   "source": [
    "import pandas as pd\n",
    "df = pd.read_excel('VisitorEntrancesV3.xlsx')"
   ]
  },
  {
   "cell_type": "markdown",
   "metadata": {},
   "source": [
    "חלק מהאתרים בדאטה עלולים לגרום להטייה כי הם קטנים יחסית (חי רמון, מרכז מבקרים רמון, השומרוני הטוב ועוד). ליאור ישלח לנו רשימה של אתרים שאותם נוריד מכל האנאליזה."
   ]
  },
  {
   "cell_type": "code",
   "execution_count": 8,
   "metadata": {},
   "outputs": [],
   "source": [
    "sites_to_drop = ['Khan Be’erot','Alexander Stream-Bet Yannai','Hai Ramon','Palmahim Beach']\n",
    "df = df[~df.Site_Name.isin(sites_to_drop)]"
   ]
  },
  {
   "cell_type": "code",
   "execution_count": 10,
   "metadata": {},
   "outputs": [
    {
     "data": {
      "text/html": [
       "<div>\n",
       "<style scoped>\n",
       "    .dataframe tbody tr th:only-of-type {\n",
       "        vertical-align: middle;\n",
       "    }\n",
       "\n",
       "    .dataframe tbody tr th {\n",
       "        vertical-align: top;\n",
       "    }\n",
       "\n",
       "    .dataframe thead th {\n",
       "        text-align: right;\n",
       "    }\n",
       "</style>\n",
       "<table border=\"1\" class=\"dataframe\">\n",
       "  <thead>\n",
       "    <tr style=\"text-align: right;\">\n",
       "      <th></th>\n",
       "      <th>Date</th>\n",
       "      <th>Site_Name</th>\n",
       "      <th>Israelis_Count</th>\n",
       "      <th>region_Central</th>\n",
       "      <th>region_Judea_Samaria</th>\n",
       "      <th>region_North</th>\n",
       "      <th>region_South</th>\n",
       "      <th>is_weekend</th>\n",
       "      <th>is_camping</th>\n",
       "      <th>special_activity</th>\n",
       "      <th>...</th>\n",
       "      <th>Season_autumn</th>\n",
       "      <th>Season_spring</th>\n",
       "      <th>Season_summer</th>\n",
       "      <th>Season_winter</th>\n",
       "      <th>last_year_visitors</th>\n",
       "      <th>Exceeded_pm10_in_Israel</th>\n",
       "      <th>Site_Exceeded</th>\n",
       "      <th>IsHoliday</th>\n",
       "      <th>IsVacation</th>\n",
       "      <th>IsHeritage</th>\n",
       "    </tr>\n",
       "  </thead>\n",
       "  <tbody>\n",
       "  </tbody>\n",
       "</table>\n",
       "<p>0 rows × 31 columns</p>\n",
       "</div>"
      ],
      "text/plain": [
       "Empty DataFrame\n",
       "Columns: [Date, Site_Name, Israelis_Count, region_Central, region_Judea_Samaria, region_North, region_South, is_weekend, is_camping, special_activity, visit_duration, is_nationalPark, is_natureReserve, is_archaeology, is_animals, is_water, is_cave, is_lookout, pm10, Temperature, is_HeatWave, Season_autumn, Season_spring, Season_summer, Season_winter, last_year_visitors, Exceeded_pm10_in_Israel, Site_Exceeded, IsHoliday, IsVacation, IsHeritage]\n",
       "Index: []\n",
       "\n",
       "[0 rows x 31 columns]"
      ]
     },
     "execution_count": 10,
     "metadata": {},
     "output_type": "execute_result"
    }
   ],
   "source": [
    "#checking\n",
    "df[df.Site_Name.isin(sites_to_drop)]"
   ]
  },
  {
   "cell_type": "code",
   "execution_count": 11,
   "metadata": {},
   "outputs": [],
   "source": [
    "#saving changes\n",
    "df.to_excel('VisitorEntrancesV3.xlsx',index=False)"
   ]
  }
 ],
 "metadata": {
  "kernelspec": {
   "display_name": "Python 3.9.13 64-bit",
   "language": "python",
   "name": "python3"
  },
  "language_info": {
   "codemirror_mode": {
    "name": "ipython",
    "version": 3
   },
   "file_extension": ".py",
   "mimetype": "text/x-python",
   "name": "python",
   "nbconvert_exporter": "python",
   "pygments_lexer": "ipython3",
   "version": "3.9.13"
  },
  "orig_nbformat": 4,
  "vscode": {
   "interpreter": {
    "hash": "21399d2563c2f2b8a9c8e6b3ef80a12e728513ae0f52517e9a59773528b494c5"
   }
  }
 },
 "nbformat": 4,
 "nbformat_minor": 2
}
