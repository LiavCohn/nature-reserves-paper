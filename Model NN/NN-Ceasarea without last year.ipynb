{
 "cells": [
  {
   "cell_type": "code",
   "execution_count": null,
   "metadata": {},
   "outputs": [],
   "source": [
    "import pandas as pd\n",
    "import numpy as np\n",
    "from sklearn import linear_model\n",
    "from sklearn.model_selection import train_test_split\n",
    "import sys\n",
    "sys.path.append('../')\n",
    "import function\n",
    "from sklearn.preprocessing import MinMaxScaler"
   ]
  },
  {
   "cell_type": "code",
   "execution_count": null,
   "metadata": {},
   "outputs": [],
   "source": [
    "df_origin = pd.read_excel('../VisitorEntrancesV3.xlsx')"
   ]
  },
  {
   "cell_type": "code",
   "execution_count": 25,
   "metadata": {},
   "outputs": [],
   "source": [
    "df = df_origin[df_origin.Site_Name=='Caesarea']\n",
    "df = function.remove_unique_one(df)\n",
    "df = df.drop(df.filter(regex='Season').columns, axis=1)\n",
    "df = df.drop(df.filter(regex='Exceeded').columns, axis=1)\n",
    "df = df.drop(df.filter(regex='isHeatwave').columns, axis=1)\n",
    "df = df.replace({True:1,False:0})"
   ]
  },
  {
   "cell_type": "code",
   "execution_count": 26,
   "metadata": {},
   "outputs": [],
   "source": [
    "dfWithoutLastYearVisits = df.dropna().drop('last_year_visitors',axis=1)\n",
    "dfLastYearVisits = df.dropna()"
   ]
  },
  {
   "cell_type": "code",
   "execution_count": 27,
   "metadata": {},
   "outputs": [
    {
     "name": "stdout",
     "output_type": "stream",
     "text": [
      "(433, 8)\n",
      "(433, 7)\n"
     ]
    }
   ],
   "source": [
    "print(dfLastYearVisits.shape)\n",
    "print(dfWithoutLastYearVisits.shape)"
   ]
  },
  {
   "cell_type": "code",
   "execution_count": 28,
   "metadata": {},
   "outputs": [],
   "source": [
    "from sklearn.metrics import mean_absolute_error\n",
    "from keras.layers import Dense, Dropout\n",
    "from keras.models import Sequential\n",
    "from keras.callbacks import EarlyStopping, ReduceLROnPlateau, ModelCheckpoint, TensorBoard\n",
    "from IPython.display import clear_output\n",
    "from keras.regularizers import l2"
   ]
  },
  {
   "cell_type": "code",
   "execution_count": 29,
   "metadata": {},
   "outputs": [],
   "source": [
    "dfWithoutLastYearVisits.sort_values('Date')\n",
    "X = dfWithoutLastYearVisits.drop(['Israelis_Count'],axis=1)\n",
    "y = dfWithoutLastYearVisits[['Date','Israelis_Count']]\n",
    "X_train, X_test, y_train, y_test = train_test_split(X, y, shuffle=False, test_size = 0.2)\n",
    "\n",
    "X_train_scaler = MinMaxScaler()\n",
    "X_test_scaler = MinMaxScaler()\n",
    "\n",
    "X_train_scaled = X_train_scaler.fit_transform(X_train.drop('Date',axis=1))\n",
    "X_test_scaled = X_test_scaler.fit_transform(X_test.drop('Date',axis=1))\n",
    " \n",
    "X_train_scaled\n",
    "\n",
    "\n",
    "X_train_date = X_train.Date\n",
    "y_train_date = y_train.Date\n",
    "X_test_date = X_test.Date\n",
    "y_test_date = y_test.Date\n",
    "\n",
    "y_train.drop('Date',axis=1,inplace=True)\n",
    "y_test.drop('Date',axis=1,inplace=True)"
   ]
  },
  {
   "cell_type": "code",
   "execution_count": 30,
   "metadata": {},
   "outputs": [],
   "source": [
    "# create NN model\n",
    "model = Sequential()\n",
    "model.add(Dense(X_train_scaled.shape[1], input_dim=X_train_scaled.shape[1],activation='relu',activity_regularizer=l2(0.01)))\n",
    "model.add(Dense(516,activation='relu',activity_regularizer=l2(0.01)))\n",
    "model.add(Dropout(0.3))\n",
    "model.add(Dense(516,activation='relu',activity_regularizer=l2(0.01)))\n",
    "model.add(Dropout(0.3))\n",
    "\n",
    "model.add(Dense(64,activation='relu',activity_regularizer=l2(0.01)))\n",
    "model.add(Dropout(0.2))\n",
    "model.add(Dense(64,activation='relu',activity_regularizer=l2(0.01)))\n",
    "model.add(Dropout(0.2))\n",
    "model.add(Dense(64,activation='relu',activity_regularizer=l2(0.01)))\n",
    "model.add(Dropout(0.2))\n",
    "model.add(Dense(1))\n",
    " "
   ]
  },
  {
   "cell_type": "code",
   "execution_count": 31,
   "metadata": {},
   "outputs": [
    {
     "name": "stdout",
     "output_type": "stream",
     "text": [
      "Epoch 1/10000\n",
      "270/276 [============================>.] - ETA: 0s - loss: 942415.2500 - mae: 685.6784 - accuracy: 0.0000e+00\n",
      "Epoch 1: val_loss improved from inf to 667266.68750, saving model to weightsCeasareaWithoutLastYearVisits.h5\n",
      "276/276 [==============================] - 3s 6ms/step - loss: 936930.6250 - mae: 684.0032 - accuracy: 0.0000e+00 - val_loss: 667266.6875 - val_mae: 578.6135 - val_accuracy: 0.0000e+00 - lr: 0.0010\n",
      "Epoch 2/10000\n",
      "272/276 [============================>.] - ETA: 0s - loss: 492037.4062 - mae: 480.5306 - accuracy: 0.0000e+00\n",
      "Epoch 2: val_loss improved from 667266.68750 to 642740.25000, saving model to weightsCeasareaWithoutLastYearVisits.h5\n",
      "276/276 [==============================] - 1s 5ms/step - loss: 485861.5000 - mae: 476.4110 - accuracy: 0.0000e+00 - val_loss: 642740.2500 - val_mae: 609.4855 - val_accuracy: 0.0000e+00 - lr: 0.0010\n",
      "Epoch 3/10000\n",
      "269/276 [============================>.] - ETA: 0s - loss: 441710.9062 - mae: 444.6033 - accuracy: 0.0000e+00\n",
      "Epoch 3: val_loss did not improve from 642740.25000\n",
      "276/276 [==============================] - 1s 5ms/step - loss: 441031.1875 - mae: 445.6251 - accuracy: 0.0000e+00 - val_loss: 654416.1250 - val_mae: 561.5854 - val_accuracy: 0.0000e+00 - lr: 0.0010\n",
      "Epoch 4/10000\n",
      "261/276 [===========================>..] - ETA: 0s - loss: 445693.8438 - mae: 440.3242 - accuracy: 0.0000e+00\n",
      "Epoch 4: val_loss improved from 642740.25000 to 628232.81250, saving model to weightsCeasareaWithoutLastYearVisits.h5\n",
      "276/276 [==============================] - 1s 5ms/step - loss: 460314.8750 - mae: 445.5153 - accuracy: 0.0000e+00 - val_loss: 628232.8125 - val_mae: 546.3105 - val_accuracy: 0.0000e+00 - lr: 0.0010\n",
      "Epoch 5/10000\n",
      "268/276 [============================>.] - ETA: 0s - loss: 427045.6562 - mae: 461.3761 - accuracy: 0.0000e+00\n",
      "Epoch 5: val_loss improved from 628232.81250 to 627378.31250, saving model to weightsCeasareaWithoutLastYearVisits.h5\n",
      "276/276 [==============================] - 1s 5ms/step - loss: 431798.6562 - mae: 460.1781 - accuracy: 0.0000e+00 - val_loss: 627378.3125 - val_mae: 562.1089 - val_accuracy: 0.0000e+00 - lr: 0.0010\n",
      "Epoch 6/10000\n",
      "276/276 [==============================] - ETA: 0s - loss: 420681.3125 - mae: 435.3092 - accuracy: 0.0000e+00\n",
      "Epoch 6: val_loss did not improve from 627378.31250\n",
      "276/276 [==============================] - 1s 5ms/step - loss: 420681.3125 - mae: 435.3092 - accuracy: 0.0000e+00 - val_loss: 634778.0625 - val_mae: 576.4853 - val_accuracy: 0.0000e+00 - lr: 0.0010\n",
      "Epoch 7/10000\n",
      "272/276 [============================>.] - ETA: 0s - loss: 401654.4688 - mae: 423.5199 - accuracy: 0.0000e+00\n",
      "Epoch 7: val_loss improved from 627378.31250 to 609648.00000, saving model to weightsCeasareaWithoutLastYearVisits.h5\n",
      "276/276 [==============================] - 1s 5ms/step - loss: 398904.2500 - mae: 422.9815 - accuracy: 0.0000e+00 - val_loss: 609648.0000 - val_mae: 569.8806 - val_accuracy: 0.0000e+00 - lr: 0.0010\n",
      "Epoch 8/10000\n",
      "269/276 [============================>.] - ETA: 0s - loss: 370517.2500 - mae: 410.6085 - accuracy: 0.0000e+00\n",
      "Epoch 8: val_loss did not improve from 609648.00000\n",
      "276/276 [==============================] - 1s 5ms/step - loss: 369770.8125 - mae: 410.3073 - accuracy: 0.0000e+00 - val_loss: 618884.5000 - val_mae: 577.2390 - val_accuracy: 0.0000e+00 - lr: 0.0010\n",
      "Epoch 9/10000\n",
      "275/276 [============================>.] - ETA: 0s - loss: 409619.1562 - mae: 413.5306 - accuracy: 0.0000e+00\n",
      "Epoch 9: val_loss did not improve from 609648.00000\n",
      "276/276 [==============================] - 1s 5ms/step - loss: 408769.0312 - mae: 413.5348 - accuracy: 0.0000e+00 - val_loss: 634378.8125 - val_mae: 555.3930 - val_accuracy: 0.0000e+00 - lr: 0.0010\n",
      "Epoch 10/10000\n",
      "270/276 [============================>.] - ETA: 0s - loss: 445701.5625 - mae: 433.6863 - accuracy: 0.0000e+00\n",
      "Epoch 10: val_loss improved from 609648.00000 to 552294.93750, saving model to weightsCeasareaWithoutLastYearVisits.h5\n",
      "276/276 [==============================] - 1s 5ms/step - loss: 440265.6250 - mae: 432.4712 - accuracy: 0.0000e+00 - val_loss: 552294.9375 - val_mae: 552.4567 - val_accuracy: 0.0000e+00 - lr: 0.0010\n",
      "Epoch 11/10000\n",
      "271/276 [============================>.] - ETA: 0s - loss: 386748.9375 - mae: 413.6105 - accuracy: 0.0000e+00\n",
      "Epoch 11: val_loss did not improve from 552294.93750\n",
      "276/276 [==============================] - 2s 6ms/step - loss: 392339.5312 - mae: 418.5855 - accuracy: 0.0000e+00 - val_loss: 572812.8750 - val_mae: 557.7686 - val_accuracy: 0.0000e+00 - lr: 0.0010\n",
      "Epoch 12/10000\n",
      "276/276 [==============================] - ETA: 0s - loss: 381476.5000 - mae: 418.1460 - accuracy: 0.0000e+00\n",
      "Epoch 12: val_loss improved from 552294.93750 to 541573.25000, saving model to weightsCeasareaWithoutLastYearVisits.h5\n",
      "276/276 [==============================] - 2s 7ms/step - loss: 381476.5000 - mae: 418.1460 - accuracy: 0.0000e+00 - val_loss: 541573.2500 - val_mae: 537.5710 - val_accuracy: 0.0000e+00 - lr: 0.0010\n",
      "Epoch 13/10000\n",
      "267/276 [============================>.] - ETA: 0s - loss: 435681.2500 - mae: 452.3679 - accuracy: 0.0000e+00\n",
      "Epoch 13: val_loss did not improve from 541573.25000\n",
      "276/276 [==============================] - 1s 5ms/step - loss: 455138.1250 - mae: 458.5784 - accuracy: 0.0000e+00 - val_loss: 603711.8125 - val_mae: 563.2952 - val_accuracy: 0.0000e+00 - lr: 0.0010\n",
      "Epoch 14/10000\n",
      "274/276 [============================>.] - ETA: 0s - loss: 378461.8750 - mae: 413.1326 - accuracy: 0.0000e+00\n",
      "Epoch 14: val_loss did not improve from 541573.25000\n",
      "276/276 [==============================] - 1s 5ms/step - loss: 376196.1875 - mae: 411.4289 - accuracy: 0.0000e+00 - val_loss: 588061.3750 - val_mae: 563.3587 - val_accuracy: 0.0000e+00 - lr: 0.0010\n",
      "Epoch 15/10000\n",
      " 74/276 [=======>......................] - ETA: 0s - loss: 445653.6875 - mae: 452.5877 - accuracy: 0.0000e+00"
     ]
    }
   ],
   "source": [
    "# Compiling the model\n",
    "model.compile(metrics=['mae','accuracy'], optimizer='adam', loss = 'mean_squared_error')\n",
    "es = EarlyStopping(monitor='val_loss', min_delta=1e-10, patience=20, verbose=1 )\n",
    "rlr = ReduceLROnPlateau(monitor='val_loss', factor=0.5, patience=20, verbose=0 )\n",
    "mcp = ModelCheckpoint(filepath='weightsCeasareaWithoutLastYearVisits.h5', monitor='val_loss', verbose=1 , save_best_only=True, save_weights_only=True)\n",
    "\n",
    "tb = TensorBoard('logs')\n",
    "\n",
    "history = model.fit(X_train_scaled, y_train, shuffle=True, epochs=10000,callbacks=[es, rlr, mcp, tb],validation_split=0.2,batch_size=1)\n",
    "clear_output(True)\n"
   ]
  },
  {
   "cell_type": "code",
   "execution_count": null,
   "metadata": {},
   "outputs": [],
   "source": [
    "model.load_weights('weightsCeasareaWithoutLastYearVisits.h5')"
   ]
  },
  {
   "cell_type": "code",
   "execution_count": null,
   "metadata": {},
   "outputs": [],
   "source": [
    "prediction = model.predict(X_train_scaled)\n",
    "prediction = prediction.reshape(len(X_train_scaled))\n",
    "print('')\n",
    "res = pd.DataFrame(\n",
    "    data={\n",
    "        'Prediction':prediction,\n",
    "        'Actual': y_train.values.T[0],\n",
    "        },\n",
    "    index=y_train_date\n",
    ")\n",
    "print('mae', mean_absolute_error(res.Prediction, res.Actual))\n",
    "print('rmse',function.get_rmse(res.Prediction, res.Actual))\n",
    "print('std',np.std(res.Actual))\n",
    "\n",
    "res.sort_index(inplace=True)\n",
    "function.plot_line(res.Prediction, res.Actual)\n",
    "# function.plot_residuals(res.Prediction, res.Actual)\n",
    "res.head(10)"
   ]
  },
  {
   "cell_type": "code",
   "execution_count": null,
   "metadata": {},
   "outputs": [],
   "source": [
    "prediction = model.predict(X_test_scaled)\n",
    "prediction = prediction.reshape(len(X_test_scaled))\n",
    "print('')\n",
    "res = pd.DataFrame(\n",
    "    data={\n",
    "        'Prediction':prediction,\n",
    "        'Actual': y_test.values.T[0],\n",
    "        },\n",
    "    index=y_test_date\n",
    ")\n",
    "print('mae', mean_absolute_error(res.Prediction, res.Actual))\n",
    "print('rmse',function.get_rmse(res.Prediction, res.Actual))\n",
    "print('std',np.std(res.Actual))\n",
    "\n",
    "res.sort_index(inplace=True)\n",
    "function.plot_line(res.Prediction, res.Actual)\n",
    "# function.plot_residuals(res.Prediction, res.Actual)\n",
    "res.head(10)"
   ]
  },
  {
   "cell_type": "code",
   "execution_count": null,
   "metadata": {},
   "outputs": [],
   "source": [
    "from lime_stability.stability import LimeTabularExplainerOvr\n",
    "\n",
    "class_names=['Israelis_Count']\n",
    "\n",
    "categorical_features = np.argwhere(\n",
    "    np.array([len(set(X_train_scaled[:,x]))\n",
    "    for x in range(X_train_scaled.shape[1])]) <= 2).flatten()\n",
    "\n",
    "print(X_train_scaled.shape)\n",
    "print(categorical_features.shape)\n",
    "print(X_train_scaled.shape)\n",
    "\n",
    "explainer = LimeTabularExplainerOvr(np.array(X_train_scaled),\n",
    " feature_names=X_train.drop('Date',axis=1).columns,\n",
    " class_names=class_names, \n",
    " categorical_features=categorical_features, \n",
    " verbose=True,\n",
    " mode='regression'\n",
    " )\n",
    "\n",
    "i = np.random.randint(len(X_test_scaled))\n",
    "print('index ', i, ':: Actual values = ', y_test.Israelis_Count.values[i])\n",
    "print('index ', i, ':: Prediction values = ', prediction.tolist()[i])\n",
    "exp = explainer.explain_instance((X_test_scaled[i]),model.predict,num_features=100)\n",
    "exp.show_in_notebook(show_table=True)\n",
    "function.outputLimeAsDf(exp)\n"
   ]
  }
 ],
 "metadata": {
  "kernelspec": {
   "display_name": "Python 3.9.13 64-bit",
   "language": "python",
   "name": "python3"
  },
  "language_info": {
   "codemirror_mode": {
    "name": "ipython",
    "version": 3
   },
   "file_extension": ".py",
   "mimetype": "text/x-python",
   "name": "python",
   "nbconvert_exporter": "python",
   "pygments_lexer": "ipython3",
   "version": "3.9.13"
  },
  "orig_nbformat": 4,
  "vscode": {
   "interpreter": {
    "hash": "21399d2563c2f2b8a9c8e6b3ef80a12e728513ae0f52517e9a59773528b494c5"
   }
  }
 },
 "nbformat": 4,
 "nbformat_minor": 2
}
