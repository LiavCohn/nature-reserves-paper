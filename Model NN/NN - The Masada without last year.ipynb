{
 "cells": [
  {
   "cell_type": "code",
   "execution_count": null,
   "metadata": {},
   "outputs": [],
   "source": [
    "import pandas as pd\n",
    "import numpy as np\n",
    "from sklearn import linear_model\n",
    "from sklearn.model_selection import train_test_split\n",
    "import sys\n",
    "sys.path.append('../')\n",
    "import function\n",
    "from sklearn.preprocessing import MinMaxScaler"
   ]
  },
  {
   "cell_type": "code",
   "execution_count": null,
   "metadata": {},
   "outputs": [],
   "source": [
    "df_origin = pd.read_excel('../VisitorEntrancesV3.xlsx')"
   ]
  },
  {
   "cell_type": "code",
   "execution_count": null,
   "metadata": {},
   "outputs": [],
   "source": [
    "df = df_origin[df_origin.Site_Name=='The Masada']\n",
    "df = function.remove_unique_one(df)\n",
    "df = df.drop(df.filter(regex='Season').columns, axis=1)\n",
    "df = df.drop(df.filter(regex='Exceeded').columns, axis=1)\n",
    "df = df.drop(df.filter(regex='isHeatwave').columns, axis=1)\n",
    "df = df.replace({True:1,False:0})"
   ]
  },
  {
   "cell_type": "code",
   "execution_count": null,
   "metadata": {},
   "outputs": [],
   "source": [
    "# dfWithoutLastYearVisits = df.dropna().drop('last_year_visitors',axis=1)\n",
    "dfWithoutLastYearVisits = df.drop('last_year_visitors',axis=1).dropna()\n",
    "dfLastYearVisits = df.dropna()"
   ]
  },
  {
   "cell_type": "code",
   "execution_count": null,
   "metadata": {},
   "outputs": [],
   "source": [
    "print(dfLastYearVisits.shape)\n",
    "print(dfWithoutLastYearVisits.shape)"
   ]
  },
  {
   "cell_type": "code",
   "execution_count": null,
   "metadata": {},
   "outputs": [],
   "source": [
    "from sklearn.metrics import mean_absolute_error\n",
    "from keras.layers import Dense, Dropout\n",
    "from keras.models import Sequential\n",
    "from keras.callbacks import EarlyStopping, ReduceLROnPlateau, ModelCheckpoint, TensorBoard\n",
    "from IPython.display import clear_output\n",
    "from keras.regularizers import l2"
   ]
  },
  {
   "cell_type": "code",
   "execution_count": null,
   "metadata": {},
   "outputs": [],
   "source": [
    "dfWithoutLastYearVisits.sort_values('Date')\n",
    "X = dfWithoutLastYearVisits.drop(['Israelis_Count'],axis=1)\n",
    "y = dfWithoutLastYearVisits[['Date','Israelis_Count']]\n",
    "X_train, X_test, y_train, y_test = train_test_split(X, y, shuffle=False, test_size = 0.2)\n",
    "\n",
    "X_train_scaler = MinMaxScaler()\n",
    "X_test_scaler = MinMaxScaler()\n",
    "\n",
    "X_train_scaled = X_train_scaler.fit_transform(X_train.drop('Date',axis=1))\n",
    "X_test_scaled = X_test_scaler.fit_transform(X_test.drop('Date',axis=1))\n",
    " \n",
    "X_train_scaled\n",
    "\n",
    "\n",
    "X_train_date = X_train.Date\n",
    "y_train_date = y_train.Date\n",
    "X_test_date = X_test.Date\n",
    "y_test_date = y_test.Date\n",
    "\n",
    "y_train.drop('Date',axis=1,inplace=True)\n",
    "y_test.drop('Date',axis=1,inplace=True)"
   ]
  },
  {
   "cell_type": "code",
   "execution_count": null,
   "metadata": {},
   "outputs": [],
   "source": [
    "# create NN model\n",
    "model = Sequential()\n",
    "model.add(Dense(X_train_scaled.shape[1], input_dim=X_train_scaled.shape[1],activation='relu',activity_regularizer=l2(0.01)))\n",
    "model.add(Dense(516,activation='relu',activity_regularizer=l2(0.01)))\n",
    "model.add(Dropout(0.3))\n",
    "model.add(Dense(516,activation='relu',activity_regularizer=l2(0.01)))\n",
    "model.add(Dropout(0.3))\n",
    "\n",
    "model.add(Dense(64,activation='relu',activity_regularizer=l2(0.01)))\n",
    "model.add(Dropout(0.2))\n",
    "model.add(Dense(64,activation='relu',activity_regularizer=l2(0.01)))\n",
    "model.add(Dropout(0.2))\n",
    "model.add(Dense(64,activation='relu',activity_regularizer=l2(0.01)))\n",
    "model.add(Dropout(0.2))\n",
    "model.add(Dense(1))\n",
    " "
   ]
  },
  {
   "cell_type": "code",
   "execution_count": null,
   "metadata": {},
   "outputs": [],
   "source": [
    "# # Compiling the model\n",
    "# model.compile(metrics=['mae','accuracy'], optimizer='adam', loss = 'mean_squared_error')\n",
    "# es = EarlyStopping(monitor='val_loss', min_delta=1e-10, patience=20, verbose=1 )\n",
    "# rlr = ReduceLROnPlateau(monitor='val_loss', factor=0.5, patience=20, verbose=0 )\n",
    "# mcp = ModelCheckpoint(filepath='weightsTheMasadaWithoutLastYear.h5', monitor='val_loss', verbose=1 , save_best_only=True, save_weights_only=True)\n",
    "\n",
    "# tb = TensorBoard('logs')\n",
    "\n",
    "# history = model.fit(X_train_scaled, y_train, shuffle=True, epochs=10000,callbacks=[es, rlr, mcp, tb],validation_split=0.2,batch_size=1)\n",
    "# clear_output(True)\n"
   ]
  },
  {
   "cell_type": "code",
   "execution_count": null,
   "metadata": {},
   "outputs": [],
   "source": [
    "model.load_weights('weightsTheMasadaWithoutLastYear.h5')"
   ]
  },
  {
   "cell_type": "code",
   "execution_count": null,
   "metadata": {},
   "outputs": [],
   "source": [
    "prediction = model.predict(X_train_scaled)\n",
    "prediction = prediction.reshape(len(X_train_scaled))\n",
    "print('')\n",
    "res = pd.DataFrame(\n",
    "    data={\n",
    "        'Prediction':prediction,\n",
    "        'Actual': y_train.values.T[0],\n",
    "        },\n",
    "    index=y_train_date\n",
    ")\n",
    "print('mae', mean_absolute_error(res.Prediction, res.Actual))\n",
    "print('rmse',function.get_rmse(res.Prediction, res.Actual))\n",
    "print('std',np.std(res.Actual))\n",
    "\n",
    "res.sort_index(inplace=True)\n",
    "function.plot_line(res.Prediction, res.Actual)\n",
    "# function.plot_residuals(res.Prediction, res.Actual)\n",
    "res.head(10)"
   ]
  },
  {
   "cell_type": "code",
   "execution_count": null,
   "metadata": {},
   "outputs": [],
   "source": [
    "prediction = model.predict(X_test_scaled)\n",
    "prediction = prediction.reshape(len(X_test_scaled))\n",
    "print('')\n",
    "res = pd.DataFrame(\n",
    "    data={\n",
    "        'Prediction':prediction,\n",
    "        'Actual': y_test.values.T[0],\n",
    "        },\n",
    "    index=y_test_date\n",
    ")\n",
    "print('mae', mean_absolute_error(res.Prediction, res.Actual))\n",
    "print('rmse',function.get_rmse(res.Prediction, res.Actual))\n",
    "print('std',np.std(res.Actual))\n",
    "\n",
    "res.sort_index(inplace=True)\n",
    "function.plot_line(res.Prediction, res.Actual)\n",
    "# function.plot_residuals(res.Prediction, res.Actual)\n",
    "res.head(10)"
   ]
  },
  {
   "cell_type": "code",
   "execution_count": null,
   "metadata": {},
   "outputs": [],
   "source": [
    "from lime_stability.stability import LimeTabularExplainerOvr\n",
    "\n",
    "class_names=['Israelis_Count']\n",
    "\n",
    "categorical_features = np.argwhere(\n",
    "    np.array([len(set(X_train_scaled[:,x]))\n",
    "    for x in range(X_train_scaled.shape[1])]) <= 2).flatten()\n",
    "\n",
    "print(X_train_scaled.shape)\n",
    "print(categorical_features.shape)\n",
    "print(X_train_scaled.shape)\n",
    "\n",
    "explainer = LimeTabularExplainerOvr(np.array(X_train_scaled),\n",
    " feature_names=X_train.drop('Date',axis=1).columns,\n",
    " class_names=class_names, \n",
    " categorical_features=categorical_features, \n",
    " verbose=True,\n",
    " mode='regression'\n",
    " )\n",
    "\n",
    "i = np.random.randint(len(X_test_scaled))\n",
    "print('index ', i, ':: Actual values = ', y_test.Israelis_Count.values[i])\n",
    "print('index ', i, ':: Prediction values = ', prediction.tolist()[i])\n",
    "exp = explainer.explain_instance((X_test_scaled[i]),model.predict,num_features=100)\n",
    "exp.show_in_notebook(show_table=True)\n",
    "function.outputLimeAsDf(exp)\n"
   ]
  },
  {
   "cell_type": "code",
   "execution_count": null,
   "metadata": {},
   "outputs": [],
   "source": [
    "function.getLimeAvg(X_test_scaled=X_test_scaled,X_train_scaled=X_train_scaled,X_train=X_train,model=model)"
   ]
  }
 ],
 "metadata": {
  "kernelspec": {
   "display_name": "Python 3.9.13 64-bit",
   "language": "python",
   "name": "python3"
  },
  "language_info": {
   "codemirror_mode": {
    "name": "ipython",
    "version": 3
   },
   "file_extension": ".py",
   "mimetype": "text/x-python",
   "name": "python",
   "nbconvert_exporter": "python",
   "pygments_lexer": "ipython3",
   "version": "3.9.13"
  },
  "orig_nbformat": 4,
  "vscode": {
   "interpreter": {
    "hash": "21399d2563c2f2b8a9c8e6b3ef80a12e728513ae0f52517e9a59773528b494c5"
   }
  }
 },
 "nbformat": 4,
 "nbformat_minor": 2
}
